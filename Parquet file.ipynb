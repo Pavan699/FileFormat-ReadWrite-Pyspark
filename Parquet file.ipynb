{
 "cells": [
  {
   "cell_type": "code",
   "execution_count": null,
   "id": "a2185b8d",
   "metadata": {},
   "outputs": [],
   "source": [
    "from pyspark.sql import SparkSession\n",
    "spark = SparkSession.builder.getOrCreate()"
   ]
  },
  {
   "cell_type": "code",
   "execution_count": 1,
   "id": "771c2d19",
   "metadata": {},
   "outputs": [],
   "source": [
    "df = spark.read.parquet(\"file:///home/pavan/practise/JSON_to_parquet\")"
   ]
  },
  {
   "cell_type": "code",
   "execution_count": 2,
   "id": "84162cd9",
   "metadata": {},
   "outputs": [
    {
     "name": "stdout",
     "output_type": "stream",
     "text": [
      "+---+----------+---------+------+----+\n",
      "| id|First_Name|Last_Name|Degree|Year|\n",
      "+---+----------+---------+------+----+\n",
      "|  1|      Amit|  Shendge|    BE|2020|\n",
      "|  1|      Amit|  Shendge|    ME|2025|\n",
      "|  2|    Mahesh|   Sargar|    BE|2021|\n",
      "|  2|    Mahesh|   Sargar|    ME|2026|\n",
      "|  3|     Sujit|   Sakpal|    BE|2025|\n",
      "|  3|     Sujit|   Sakpal|    ME|2027|\n",
      "|  4|    Hardik| Shettyar|    BE|2024|\n",
      "|  4|    Hardik| Shettyar|    ME|2026|\n",
      "|  5|     Rajat|    Nikam|    BE|2020|\n",
      "|  5|     Rajat|    Nikam|    ME|2023|\n",
      "|  6|     Suraj|    Patil|    BE|2021|\n",
      "|  6|     Suraj|    Patil|    ME|2024|\n",
      "+---+----------+---------+------+----+\n",
      "\n"
     ]
    }
   ],
   "source": [
    "df.show()"
   ]
  },
  {
   "cell_type": "code",
   "execution_count": 3,
   "id": "fcda6100",
   "metadata": {},
   "outputs": [
    {
     "name": "stdout",
     "output_type": "stream",
     "text": [
      "root\n",
      " |-- id: long (nullable = true)\n",
      " |-- First_Name: string (nullable = true)\n",
      " |-- Last_Name: string (nullable = true)\n",
      " |-- Degree: string (nullable = true)\n",
      " |-- Year: string (nullable = true)\n",
      "\n"
     ]
    }
   ],
   "source": [
    "df.printSchema()"
   ]
  },
  {
   "cell_type": "code",
   "execution_count": 4,
   "id": "083a6266",
   "metadata": {},
   "outputs": [],
   "source": [
    "df.write.csv(\"file:///home/pavan/practise/parquet_to_csv\")"
   ]
  },
  {
   "cell_type": "code",
   "execution_count": null,
   "id": "9d0b73c6",
   "metadata": {},
   "outputs": [],
   "source": []
  }
 ],
 "metadata": {
  "kernelspec": {
   "display_name": "Python 3 (ipykernel)",
   "language": "python",
   "name": "python3"
  },
  "language_info": {
   "codemirror_mode": {
    "name": "ipython",
    "version": 3
   },
   "file_extension": ".py",
   "mimetype": "text/x-python",
   "name": "python",
   "nbconvert_exporter": "python",
   "pygments_lexer": "ipython3",
   "version": "3.8.10"
  }
 },
 "nbformat": 4,
 "nbformat_minor": 5
}
