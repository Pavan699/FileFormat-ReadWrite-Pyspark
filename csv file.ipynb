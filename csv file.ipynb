{
 "cells": [
  {
   "cell_type": "code",
   "execution_count": null,
   "id": "39c99073",
   "metadata": {},
   "outputs": [],
   "source": [
    "import findspark\n",
    "findspark.init()"
   ]
  },
  {
   "cell_type": "code",
   "execution_count": null,
   "id": "bcf1d2aa",
   "metadata": {},
   "outputs": [],
   "source": [
    "from pyspark.sql import SparkSession\n",
    "spark = SparkSession.builder.getOrCreate()"
   ]
  },
  {
   "cell_type": "code",
   "execution_count": 19,
   "id": "e8162857",
   "metadata": {},
   "outputs": [],
   "source": [
    "df = spark.read.csv(\"file:///home/pavan/practise/parquet_to_csv\",header=True,inferSchema=True)"
   ]
  },
  {
   "cell_type": "code",
   "execution_count": 20,
   "id": "5d78bcc2",
   "metadata": {},
   "outputs": [
    {
     "name": "stdout",
     "output_type": "stream",
     "text": [
      "+---+----------+---------+------+----+\n",
      "| id|First_Name|Last_Name|Degree|Year|\n",
      "+---+----------+---------+------+----+\n",
      "|  1|      Amit|  Shendge|    BE|2020|\n",
      "|  1|      Amit|  Shendge|    ME|2025|\n",
      "|  2|    Mahesh|   Sargar|    BE|2021|\n",
      "|  2|    Mahesh|   Sargar|    ME|2026|\n",
      "|  3|     Sujit|   Sakpal|    BE|2025|\n",
      "|  3|     Sujit|   Sakpal|    ME|2027|\n",
      "|  4|    Hardik| Shettyar|    BE|2024|\n",
      "|  4|    Hardik| Shettyar|    ME|2026|\n",
      "|  5|     Rajat|    Nikam|    BE|2020|\n",
      "|  5|     Rajat|    Nikam|    ME|2023|\n",
      "|  6|     Suraj|    Patil|    BE|2021|\n",
      "|  6|     Suraj|    Patil|    ME|2024|\n",
      "+---+----------+---------+------+----+\n",
      "\n"
     ]
    }
   ],
   "source": [
    "df.show()"
   ]
  },
  {
   "cell_type": "code",
   "execution_count": 21,
   "id": "ac156e53",
   "metadata": {},
   "outputs": [
    {
     "name": "stdout",
     "output_type": "stream",
     "text": [
      "root\n",
      " |-- id: integer (nullable = true)\n",
      " |-- First_Name: string (nullable = true)\n",
      " |-- Last_Name: string (nullable = true)\n",
      " |-- Degree: string (nullable = true)\n",
      " |-- Year: integer (nullable = true)\n",
      "\n"
     ]
    }
   ],
   "source": [
    "df.printSchema()"
   ]
  },
  {
   "cell_type": "code",
   "execution_count": 24,
   "id": "f0bd7e2c",
   "metadata": {},
   "outputs": [],
   "source": [
    "df.write.json(\"file:///home/pavan/practise/CSV_to_Jsonn\",)"
   ]
  }
 ],
 "metadata": {
  "kernelspec": {
   "display_name": "Python 3 (ipykernel)",
   "language": "python",
   "name": "python3"
  },
  "language_info": {
   "codemirror_mode": {
    "name": "ipython",
    "version": 3
   },
   "file_extension": ".py",
   "mimetype": "text/x-python",
   "name": "python",
   "nbconvert_exporter": "python",
   "pygments_lexer": "ipython3",
   "version": "3.8.10"
  }
 },
 "nbformat": 4,
 "nbformat_minor": 5
}
