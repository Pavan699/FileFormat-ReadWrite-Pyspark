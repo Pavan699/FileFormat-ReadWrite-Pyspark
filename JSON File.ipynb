{
 "cells": [
  {
   "cell_type": "code",
   "execution_count": null,
   "id": "c24c344b",
   "metadata": {},
   "outputs": [],
   "source": [
    "from pyspark.sql import SparkSession\n",
    "spark = SparkSession.builder.getOrCreate()"
   ]
  },
  {
   "cell_type": "code",
   "execution_count": 8,
   "id": "051e479e",
   "metadata": {},
   "outputs": [],
   "source": [
    "df = spark.read.json(\"file:///home/amit/Desktop/Untitled-1.json\",multiLine=True)"
   ]
  },
  {
   "cell_type": "code",
   "execution_count": 9,
   "id": "1ffce24a",
   "metadata": {},
   "outputs": [
    {
     "name": "stdout",
     "output_type": "stream",
     "text": [
      "+---+------------------+--------------------+\n",
      "| id|              name|       qualification|\n",
      "+---+------------------+--------------------+\n",
      "|  1|   {Amit, Shendge}|[{BE, 2020}, {ME,...|\n",
      "|  2|  {Mahesh, Sargar}|[{BE, 2021}, {ME,...|\n",
      "|  3|   {Sujit, Sakpal}|[{BE, 2025}, {ME,...|\n",
      "|  4|{Hardik, Shettyar}|[{BE, 2024}, {ME,...|\n",
      "|  5|    {Rajat, Nikam}|[{BE, 2020}, {ME,...|\n",
      "|  6|    {Suraj, Patil}|[{BE, 2021}, {ME,...|\n",
      "+---+------------------+--------------------+\n",
      "\n"
     ]
    }
   ],
   "source": [
    "df.show()"
   ]
  },
  {
   "cell_type": "code",
   "execution_count": 10,
   "id": "8b85459b",
   "metadata": {},
   "outputs": [
    {
     "name": "stdout",
     "output_type": "stream",
     "text": [
      "root\n",
      " |-- id: long (nullable = true)\n",
      " |-- name: struct (nullable = true)\n",
      " |    |-- First_Name: string (nullable = true)\n",
      " |    |-- Last_Name: string (nullable = true)\n",
      " |-- qualification: array (nullable = true)\n",
      " |    |-- element: struct (containsNull = true)\n",
      " |    |    |-- Degree: string (nullable = true)\n",
      " |    |    |-- Year: string (nullable = true)\n",
      "\n"
     ]
    }
   ],
   "source": [
    "df.printSchema()"
   ]
  },
  {
   "cell_type": "code",
   "execution_count": 19,
   "id": "eaf9a74a",
   "metadata": {},
   "outputs": [],
   "source": [
    "from pyspark.sql.functions import explode\n",
    "df1 = df.withColumn(\"qualifications\",explode(\"qualification\"))"
   ]
  },
  {
   "cell_type": "code",
   "execution_count": 20,
   "id": "da236c82",
   "metadata": {},
   "outputs": [],
   "source": [
    "df1 = df1.drop(\"qualification\")"
   ]
  },
  {
   "cell_type": "code",
   "execution_count": 21,
   "id": "f8f3e900",
   "metadata": {},
   "outputs": [
    {
     "name": "stdout",
     "output_type": "stream",
     "text": [
      "+---+------------------+--------------+\n",
      "| id|              name|qualifications|\n",
      "+---+------------------+--------------+\n",
      "|  1|   {Amit, Shendge}|    {BE, 2020}|\n",
      "|  1|   {Amit, Shendge}|    {ME, 2025}|\n",
      "|  2|  {Mahesh, Sargar}|    {BE, 2021}|\n",
      "|  2|  {Mahesh, Sargar}|    {ME, 2026}|\n",
      "|  3|   {Sujit, Sakpal}|    {BE, 2025}|\n",
      "|  3|   {Sujit, Sakpal}|    {ME, 2027}|\n",
      "|  4|{Hardik, Shettyar}|    {BE, 2024}|\n",
      "|  4|{Hardik, Shettyar}|    {ME, 2026}|\n",
      "|  5|    {Rajat, Nikam}|    {BE, 2020}|\n",
      "|  5|    {Rajat, Nikam}|    {ME, 2023}|\n",
      "|  6|    {Suraj, Patil}|    {BE, 2021}|\n",
      "|  6|    {Suraj, Patil}|    {ME, 2024}|\n",
      "+---+------------------+--------------+\n",
      "\n"
     ]
    }
   ],
   "source": [
    "df1.show()"
   ]
  },
  {
   "cell_type": "code",
   "execution_count": 27,
   "id": "d12a6dbc",
   "metadata": {},
   "outputs": [
    {
     "name": "stdout",
     "output_type": "stream",
     "text": [
      "root\n",
      " |-- id: long (nullable = true)\n",
      " |-- name: struct (nullable = true)\n",
      " |    |-- First_Name: string (nullable = true)\n",
      " |    |-- Last_Name: string (nullable = true)\n",
      " |-- qualifications: struct (nullable = true)\n",
      " |    |-- Degree: string (nullable = true)\n",
      " |    |-- Year: string (nullable = true)\n",
      "\n"
     ]
    }
   ],
   "source": [
    "df1.printSchema()"
   ]
  },
  {
   "cell_type": "code",
   "execution_count": 35,
   "id": "d3c2ebbd",
   "metadata": {},
   "outputs": [],
   "source": [
    "df2 = df1.select(\"id\",\"name.*\",\"qualifications.*\")"
   ]
  },
  {
   "cell_type": "code",
   "execution_count": 36,
   "id": "45617501",
   "metadata": {},
   "outputs": [
    {
     "name": "stdout",
     "output_type": "stream",
     "text": [
      "+---+----------+---------+------+----+\n",
      "| id|First_Name|Last_Name|Degree|Year|\n",
      "+---+----------+---------+------+----+\n",
      "|  1|      Amit|  Shendge|    BE|2020|\n",
      "|  1|      Amit|  Shendge|    ME|2025|\n",
      "|  2|    Mahesh|   Sargar|    BE|2021|\n",
      "|  2|    Mahesh|   Sargar|    ME|2026|\n",
      "|  3|     Sujit|   Sakpal|    BE|2025|\n",
      "|  3|     Sujit|   Sakpal|    ME|2027|\n",
      "|  4|    Hardik| Shettyar|    BE|2024|\n",
      "|  4|    Hardik| Shettyar|    ME|2026|\n",
      "|  5|     Rajat|    Nikam|    BE|2020|\n",
      "|  5|     Rajat|    Nikam|    ME|2023|\n",
      "|  6|     Suraj|    Patil|    BE|2021|\n",
      "|  6|     Suraj|    Patil|    ME|2024|\n",
      "+---+----------+---------+------+----+\n",
      "\n"
     ]
    }
   ],
   "source": [
    "df2.show()"
   ]
  },
  {
   "cell_type": "code",
   "execution_count": 40,
   "id": "0cd2846d",
   "metadata": {},
   "outputs": [],
   "source": [
    "df2.write.parquet(\"file:///home/amit/practise/JSON_to_parquet\")"
   ]
  },
  {
   "cell_type": "code",
   "execution_count": null,
   "id": "5f303853",
   "metadata": {},
   "outputs": [],
   "source": []
  }
 ],
 "metadata": {
  "kernelspec": {
   "display_name": "Python 3 (ipykernel)",
   "language": "python",
   "name": "python3"
  },
  "language_info": {
   "codemirror_mode": {
    "name": "ipython",
    "version": 3
   },
   "file_extension": ".py",
   "mimetype": "text/x-python",
   "name": "python",
   "nbconvert_exporter": "python",
   "pygments_lexer": "ipython3",
   "version": "3.8.10"
  }
 },
 "nbformat": 4,
 "nbformat_minor": 5
}
